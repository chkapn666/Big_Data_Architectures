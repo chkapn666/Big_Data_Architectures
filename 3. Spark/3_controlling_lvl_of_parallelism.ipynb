{
 "cells": [
  {
   "cell_type": "code",
   "execution_count": 1,
   "id": "c16c1710-f4ac-438a-bcbc-0945ca348a49",
   "metadata": {},
   "outputs": [
    {
     "name": "stderr",
     "output_type": "stream",
     "text": [
      "25/03/16 17:55:00 WARN Utils: Your hostname, ChristoorossAir resolves to a loopback address: 127.0.0.1; using 192.168.1.18 instead (on interface en0)\n",
      "25/03/16 17:55:00 WARN Utils: Set SPARK_LOCAL_IP if you need to bind to another address\n",
      "Setting default log level to \"WARN\".\n",
      "To adjust logging level use sc.setLogLevel(newLevel). For SparkR, use setLogLevel(newLevel).\n",
      "25/03/16 17:55:00 WARN NativeCodeLoader: Unable to load native-hadoop library for your platform... using builtin-java classes where applicable\n"
     ]
    }
   ],
   "source": [
    "from pyspark import SparkContext\n",
    "import os\n",
    "os.chdir('/Users/chkapsalis/Documents/GitHub/Big_Data_Architectures/3. Spark')\n",
    "\n",
    "sc = SparkContext(\"local[1]\", \"app\")"
   ]
  },
  {
   "cell_type": "markdown",
   "id": "44550f22-7884-48e5-9db6-0f3c735a84d8",
   "metadata": {},
   "source": [
    "All the pairs of RDD Operations take an optional second parameter for the number of tasks to run.  \n",
    "```\n",
    "words.reduceByKey(lambda x, y: x + y, 5)\n",
    "words.groupByKey(5)\n",
    "visits.join(pageViews, 5)\n",
    "```"
   ]
  },
  {
   "cell_type": "markdown",
   "id": "b6e44c42-f135-4445-8ed1-8fe293dd265a",
   "metadata": {},
   "source": [
    "## Using Local Variables in Spark"
   ]
  },
  {
   "cell_type": "markdown",
   "id": "73f6ba5a-b5c2-440f-8a2a-bbcd1c3aed6e",
   "metadata": {},
   "source": [
    "External variables in a closure will automatically be shipped to the cluster  \\\n",
    "```\n",
    "query = raw_input('Enter a query: ')\n",
    "pages.filter(lambda x: x.startswith(query)).count()\n",
    "```"
   ]
  },
  {
   "cell_type": "markdown",
   "id": "ecc9fc87-030b-4930-aae5-4fa06039823b",
   "metadata": {},
   "source": [
    "### Caveats\n",
    "- Each task gets a new copy (updates are NOT sent back)\n",
    "- Variables must be Serializable (Java/Scala) or pickle-able (Python)\n",
    "- Don't use fields of an outer object (pyspark will ship all of it!)"
   ]
  },
  {
   "cell_type": "markdown",
   "id": "0ec22c17-21d8-4e2f-ba98-f0276307ba15",
   "metadata": {},
   "source": [
    "## The PageRank Algorithm\n"
   ]
  },
  {
   "cell_type": "markdown",
   "id": "c4e091c8-1d3c-4566-8a87-b206145a170b",
   "metadata": {},
   "source": [
    "### Basic Idea:  \n",
    "It gives pages ranks (scores) based on links to them (\"backlinks\")\n",
    "- Links from many pages lead to a higher rank.\n",
    "- Links from high-rank pages also contribute to a higher rank."
   ]
  },
  {
   "cell_type": "markdown",
   "id": "55824565-01cc-4e67-9007-8b11000cdb27",
   "metadata": {},
   "source": [
    "### Algorithm Description\n",
    "1. Start each page at rank 1.\n",
    "2. On each iteration, have page 'p' contribute rank_p / |neighbors_p| to its neighbors\n",
    "3. Set each page's rank to 0.15 + 0.85 x contributions"
   ]
  },
  {
   "cell_type": "code",
   "execution_count": 2,
   "id": "66013373-c6af-4d16-997a-0e17f7be024c",
   "metadata": {},
   "outputs": [],
   "source": [
    "IterN = 2\n",
    "\n",
    "links = sc.parallelize([(1, [2]), (2, [4]), (3, [1,2]), (4, [2,3])])  # RDD of (url, neighbors) pairs\n",
    "ranks = sc.parallelize([(1,1), (2,1), (3,1), (4,1)])  # RDD of (url, rank) pairs; at the beginning, they are all appointed rank=1"
   ]
  },
  {
   "cell_type": "code",
   "execution_count": 3,
   "id": "03aaa763-b441-4582-8ec6-625b9e1e615d",
   "metadata": {},
   "outputs": [],
   "source": [
    "def compute_contribs(pair):\n",
    "    \"\"\" \n",
    "    Incoming pairs (after joining links and ranks) will have the form (url, [neighbors_list, current_rank])\n",
    "    \"\"\"\n",
    "    [url, [links, rank]] = pair  # split the input key-value pair to be able to use their underlying values independently\n",
    "    return [(dest, rank / len(links)) for dest in links]  # this showcases how much the currently considered page contributes to each of its neighbors"
   ]
  },
  {
   "cell_type": "code",
   "execution_count": 4,
   "id": "07db75bb-9a60-4f6d-89d2-d245cded8116",
   "metadata": {},
   "outputs": [
    {
     "name": "stderr",
     "output_type": "stream",
     "text": [
      "                                                                                "
     ]
    },
    {
     "name": "stdout",
     "output_type": "stream",
     "text": [
      "[(4, 1.0), (2, 1.8499999999999999), (3, 0.575), (1, 0.575)]\n",
      "[(3, 0.575), (1, 0.394375), (4, 1.7224999999999997), (2, 1.3081249999999998)]\n"
     ]
    }
   ],
   "source": [
    "for i in range(IterN):\n",
    "    contribs = links.join(ranks).flatMap(compute_contribs)  \n",
    "    ranks = contribs.reduceByKey(lambda x, y: x + y) \\\n",
    "                        .mapValues(lambda x: 0.15 + 0.85 * x)\n",
    "\n",
    "    print(ranks.collect())"
   ]
  },
  {
   "cell_type": "markdown",
   "id": "024a5877-0bdd-482f-bd89-ad5e25537fca",
   "metadata": {},
   "source": [
    "```\n",
    "\n",
    "\n",
    "\n",
    "```"
   ]
  },
  {
   "cell_type": "markdown",
   "id": "3c728290-33b0-4d98-bf26-4d61c6c2ad83",
   "metadata": {},
   "source": [
    "## The Airlines Delay Algorithm"
   ]
  },
  {
   "cell_type": "code",
   "execution_count": 5,
   "id": "cadc5e80-0c5a-49e0-a32d-035862f498af",
   "metadata": {},
   "outputs": [],
   "source": [
    "import matplotlib.pyplot as plt \n",
    "from datetime import datetime \n",
    "\n",
    "DATE_FMT = \"%Y-%m-%d\"\n",
    "TIME_FMT = \"%H%M\""
   ]
  },
  {
   "cell_type": "code",
   "execution_count": 22,
   "id": "7be0e9ac-7574-4410-8735-2ec6add8623e",
   "metadata": {},
   "outputs": [],
   "source": [
    "def parse(row):\n",
    "    \"\"\"Parses a row and returns (airline, dep_delay, arv_delay)\"\"\"    \n",
    "    try:\n",
    "        row[0] = datetime.strptime(row[0], DATE_FMT).date()  # parse time from string value\n",
    "    except ValueError:\n",
    "        row[0] = datetime.strptime('1970-01-01', DATE_FMT).date()  # fallback value \"epoch 1\" - we could as well just drop these \n",
    "    try:\n",
    "        row[5] = datetime.strptime(row[5], TIME_FMT).time()\n",
    "    except ValueError:\n",
    "        row[5] = datetime.strptime('0000', TIME_FMT).time()\n",
    "    try:\n",
    "        row[6] = float(row[6])\n",
    "    except ValueError:\n",
    "        row[6] = 0.0\n",
    "    try:\n",
    "        row[7] = float(row[7])\n",
    "    except ValueError:\n",
    "        row[7] = 0.0\n",
    "    try: \n",
    "        row[8] = datetime.strptime(row[8], TIME_FMT).time()\n",
    "    except ValueError:\n",
    "        row[8] = datetime.strptime('0000', TIME_FMT).time()\n",
    "    try: \n",
    "        row[9] = float(row[9])\n",
    "    except ValueError:\n",
    "        row[9] = 0.0\n",
    "    try: \n",
    "        row[10] = float(row[10])\n",
    "    except ValueError:\n",
    "        row[10] = 0.0\n",
    "\n",
    "    return row[1], row[7], row[10]"
   ]
  },
  {
   "cell_type": "code",
   "execution_count": 23,
   "id": "b2fa4fd0-601f-4bd6-b008-352bece75bd9",
   "metadata": {},
   "outputs": [],
   "source": [
    "# Loading the airlines lookup dictionary\n",
    "airlines = dict(sc.textFile('file:///' + os.getcwd() + '/airlines_no_header.csv') \\\n",
    "                .map(lambda line: line.split(',')) \\\n",
    "                .map(lambda x: (x[0], x[1])).collect()\n",
    ")"
   ]
  },
  {
   "cell_type": "code",
   "execution_count": 24,
   "id": "1404246d-1632-449b-8b6c-f865eb0aa45d",
   "metadata": {},
   "outputs": [],
   "source": [
    "# Reading the CSV data\n",
    "flights = sc.textFile('file:///' + os.getcwd() + '/ontime_flights_no_header.csv') \\\n",
    "        .map(lambda line: line.split(',')) \\\n",
    "        .map(parse)"
   ]
  },
  {
   "cell_type": "code",
   "execution_count": 25,
   "id": "e1865bda-f40a-4bb6-946f-7176d3b758ff",
   "metadata": {},
   "outputs": [],
   "source": [
    "# Calculating the sum of departure and arrival delays per flight\n",
    "delays = flights.map(\n",
    "    lambda f: (f[0], f[1] + f[2])\n",
    ")"
   ]
  },
  {
   "cell_type": "code",
   "execution_count": 26,
   "id": "103ad808-499a-4d60-b01a-e127da9ddb66",
   "metadata": {},
   "outputs": [
    {
     "name": "stderr",
     "output_type": "stream",
     "text": [
      "[Stage 13:>                                                         (0 + 1) / 1]"
     ]
    },
    {
     "name": "stdout",
     "output_type": "stream",
     "text": [
      "19690: 39000.0 minutes delayed in total. (Hawaiian Airlines Inc.)\n",
      "21171: 96774.0 minutes delayed in total. (Virgin America)\n",
      "20437: 127775.0 minutes delayed in total. (AirTran Airways Corporation)\n",
      "19930: 133306.0 minutes delayed in total. (Alaska Airlines Inc.)\n",
      "20436: 156030.0 minutes delayed in total. (Frontier Airlines Inc.)\n",
      "20409: 520070.0 minutes delayed in total. (JetBlue Airways)\n",
      "20355: 549922.0 minutes delayed in total. (US Airways Inc.)\n",
      "20398: 807684.0 minutes delayed in total. (American Eagle Airlines Inc.)\n",
      "19977: 840763.0 minutes delayed in total. (United Air Lines Inc.)\n",
      "19805: 914824.0 minutes delayed in total. (American Airlines Inc.)\n",
      "20304: 1050982.0 minutes delayed in total. (SkyWest Airlines Inc.)\n",
      "19790: 1104519.0 minutes delayed in total. (Delta Air Lines Inc.)\n",
      "20366: 1766868.0 minutes delayed in total. (ExpressJet Airlines Inc.)\n",
      "19393: 2740828.0 minutes delayed in total. (Southwest Airlines Co.)\n"
     ]
    },
    {
     "name": "stderr",
     "output_type": "stream",
     "text": [
      "                                                                                "
     ]
    }
   ],
   "source": [
    "# Calculate the total delays per airline\n",
    "delays = delays.reduceByKey(lambda x, y: x + y).collect()\n",
    "delays = sorted(delays, key=lambda x: x[1])\n",
    "for d in delays:\n",
    "    print(f'{d[0]}: {d[1]} minutes delayed in total. ({airlines[d[0]]})')"
   ]
  },
  {
   "cell_type": "code",
   "execution_count": null,
   "id": "5322177e-0a0e-48a9-bb6e-00d06a0df0ae",
   "metadata": {},
   "outputs": [],
   "source": []
  },
  {
   "cell_type": "code",
   "execution_count": null,
   "id": "f00d78bf-c369-4ae4-b5b1-b71b73e53e9b",
   "metadata": {},
   "outputs": [],
   "source": []
  }
 ],
 "metadata": {
  "kernelspec": {
   "display_name": "Python (PySpark)",
   "language": "python",
   "name": "pyspark"
  },
  "language_info": {
   "codemirror_mode": {
    "name": "ipython",
    "version": 3
   },
   "file_extension": ".py",
   "mimetype": "text/x-python",
   "name": "python",
   "nbconvert_exporter": "python",
   "pygments_lexer": "ipython3",
   "version": "3.10.15"
  }
 },
 "nbformat": 4,
 "nbformat_minor": 5
}
