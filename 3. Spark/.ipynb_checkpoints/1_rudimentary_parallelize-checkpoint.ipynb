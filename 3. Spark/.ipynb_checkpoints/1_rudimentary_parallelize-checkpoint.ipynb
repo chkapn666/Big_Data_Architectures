{
 "cells": [
  {
   "cell_type": "code",
   "execution_count": 1,
   "id": "f1079f6f-e857-410e-8467-394c87474f50",
   "metadata": {},
   "outputs": [],
   "source": [
    "from pyspark import SparkContext"
   ]
  },
  {
   "cell_type": "code",
   "execution_count": 2,
   "id": "d04bba5e-bd9e-4c84-8942-bf50e51499f8",
   "metadata": {},
   "outputs": [
    {
     "name": "stderr",
     "output_type": "stream",
     "text": [
      "25/03/16 12:30:51 WARN Utils: Your hostname, ChristoorossAir resolves to a loopback address: 127.0.0.1; using 192.168.1.18 instead (on interface en0)\n",
      "25/03/16 12:30:51 WARN Utils: Set SPARK_LOCAL_IP if you need to bind to another address\n",
      "Setting default log level to \"WARN\".\n",
      "To adjust logging level use sc.setLogLevel(newLevel). For SparkR, use setLogLevel(newLevel).\n",
      "25/03/16 12:30:52 WARN NativeCodeLoader: Unable to load native-hadoop library for your platform... using builtin-java classes where applicable\n",
      "25/03/16 12:30:52 WARN Utils: Service 'SparkUI' could not bind on port 4040. Attempting port 4041.\n"
     ]
    }
   ],
   "source": [
    "maxNum = 10_000\n",
    "sc = SparkContext('local[1]', 'app')"
   ]
  },
  {
   "cell_type": "code",
   "execution_count": 9,
   "id": "8744862e-2fcc-421d-bc1c-58ed071d064b",
   "metadata": {},
   "outputs": [],
   "source": [
    "rdd = sc.parallelize(\n",
    "    range(maxNum),  # python range object\n",
    "    5   # we explicitly ask for 5 partitions\n",
    ")"
   ]
  },
  {
   "cell_type": "code",
   "execution_count": 10,
   "id": "7388d5e3-6b25-44a2-872f-ed31b427fd66",
   "metadata": {},
   "outputs": [
    {
     "name": "stdout",
     "output_type": "stream",
     "text": [
      "Number of partitions: 5\n",
      "Action: First Element: 0\n",
      "Action: sum, mean of values: 49995000\n"
     ]
    }
   ],
   "source": [
    "print(\"Number of partitions: {0}\".format(rdd.getNumPartitions()))\n",
    "print(\"Action: First Element: {0}\".format(rdd.first()))\n",
    "print(\"Action: sum, mean of values: {0}\".format(rdd.sum(), rdd.mean()))"
   ]
  },
  {
   "cell_type": "code",
   "execution_count": 11,
   "id": "84ddf210-3df8-45b8-bd82-515253f53dbd",
   "metadata": {},
   "outputs": [
    {
     "name": "stdout",
     "output_type": "stream",
     "text": [
      "Action: RDD first ten values: \n"
     ]
    },
    {
     "name": "stderr",
     "output_type": "stream",
     "text": [
      "0\n",
      "1\n",
      "2\n",
      "3\n",
      "4\n",
      "5\n",
      "6\n",
      "7\n",
      "8\n",
      "9\n"
     ]
    }
   ],
   "source": [
    "print(\"Action: RDD first ten values: \")\n",
    "rdd = rdd.filter(lambda x: x < 10)\n",
    "rdd.foreach(print)"
   ]
  },
  {
   "cell_type": "code",
   "execution_count": 12,
   "id": "8d238587-fa27-4c15-8ee8-dc40ee553c41",
   "metadata": {},
   "outputs": [],
   "source": [
    "rddCollect = rdd.collect()"
   ]
  },
  {
   "cell_type": "code",
   "execution_count": 13,
   "id": "24423695-b1be-44f1-bc38-9ec40e2923c5",
   "metadata": {},
   "outputs": [
    {
     "name": "stdout",
     "output_type": "stream",
     "text": [
      "Action: RDD converted to Array[Int], first ten values: \n",
      "0\n",
      "1\n",
      "2\n",
      "3\n",
      "4\n",
      "5\n",
      "6\n",
      "7\n",
      "8\n",
      "9\n"
     ]
    }
   ],
   "source": [
    "print(\"Action: RDD converted to Array[Int], first ten values: \")\n",
    "for n in rddCollect[:10]:\n",
    "    print(n)"
   ]
  }
 ],
 "metadata": {
  "kernelspec": {
   "display_name": "Python (PySpark)",
   "language": "python",
   "name": "pyspark"
  },
  "language_info": {
   "codemirror_mode": {
    "name": "ipython",
    "version": 3
   },
   "file_extension": ".py",
   "mimetype": "text/x-python",
   "name": "python",
   "nbconvert_exporter": "python",
   "pygments_lexer": "ipython3",
   "version": "3.10.15"
  }
 },
 "nbformat": 4,
 "nbformat_minor": 5
}
