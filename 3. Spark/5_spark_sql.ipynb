{
 "cells": [
  {
   "cell_type": "markdown",
   "id": "cc48afab-4702-466a-aadb-10ec09b0ae5b",
   "metadata": {},
   "source": [
    "# SparkSession\n",
    "\n",
    "SparkSession contains a catalog that lists all the data inside the cluster.  \n",
    "The catalog provides methods for extracting different pieces of information.  \n",
    "spark.catalog.listTables() returns a list that contains the names of all tables in the cluster."
   ]
  },
  {
   "cell_type": "markdown",
   "id": "3f9b9b53-5021-4b4e-badd-1097b1a2e89c",
   "metadata": {},
   "source": [
    "**The output of createDataFrame is stored locally, NOT in the SparkSession catalog.**\n",
    "\n",
    "This means that all Spark DataFrame methods can be used on it but its data cannot be accessed in other contexts.  \n",
    "\n",
    "**To access via SparkSQL the Spark DF data must be saved as a temporary table** using one of the Spark DF methods:\n",
    "- registerTempTable(tablename)\n",
    "- createTempView(viewname)\n",
    "- createOrReplaceTempView(viewname)"
   ]
  },
  {
   "cell_type": "markdown",
   "id": "abdec31c-389b-4cdf-b8b8-da688f4a6710",
   "metadata": {},
   "source": [
    "In SparkQSL, temporary views are **session-scoped and disappear if the session that creates them terminates.**  \n",
    "To keep a view alive until the Spark app terminates requires creating a **global temporary view.**\n",
    "!!! Warning !!! The qualified name \"global_temp\" must be used when referring to global temporary views.  \n",
    "e.g. ```\n",
    "SELECT * FROM global_temp.view1\n",
    "```"
   ]
  },
  {
   "cell_type": "markdown",
   "id": "9cb746c0-d29b-48ab-b1cb-2357cd93917f",
   "metadata": {},
   "source": [
    "```\n",
    "# Registering the DataFrame as a global temporary view\n",
    "df.createGlobalTempView(\"people\")\n",
    "\n",
    "# Global temporary view is tied to a system preserved database global_temp\n",
    "spark.sql(\"SELECT * FROM global_temp.people\").show()\n",
    "```"
   ]
  },
  {
   "cell_type": "code",
   "execution_count": 4,
   "id": "341f2fd9-2f48-470e-abd9-5e038b9de375",
   "metadata": {},
   "outputs": [],
   "source": [
    "from pyspark.sql import SparkSession\n",
    "import pandas as pd"
   ]
  },
  {
   "cell_type": "code",
   "execution_count": 5,
   "id": "f10d8ce3-4031-44c6-9e4c-0afdc9e7f352",
   "metadata": {},
   "outputs": [
    {
     "name": "stderr",
     "output_type": "stream",
     "text": [
      "25/03/16 22:31:06 WARN Utils: Your hostname, ChristoorossAir resolves to a loopback address: 127.0.0.1; using 192.168.1.18 instead (on interface en0)\n",
      "25/03/16 22:31:06 WARN Utils: Set SPARK_LOCAL_IP if you need to bind to another address\n",
      "Setting default log level to \"WARN\".\n",
      "To adjust logging level use sc.setLogLevel(newLevel). For SparkR, use setLogLevel(newLevel).\n",
      "25/03/16 22:31:07 WARN NativeCodeLoader: Unable to load native-hadoop library for your platform... using builtin-java classes where applicable\n"
     ]
    }
   ],
   "source": [
    "data = [\n",
    "    ['Nick', 26],\n",
    "    ['Helen', 28],\n",
    "    ['Mary', 30],\n",
    "    ['John', 31]\n",
    "]\n",
    "\n",
    "df = pd.DataFrame(data, columns=['Name','Age'])\n",
    "\n",
    "spark = SparkSession.builder.master(\"local[1]\") \\\n",
    "            .appName(\"app\") \\\n",
    "            .getOrCreate()"
   ]
  },
  {
   "cell_type": "code",
   "execution_count": 6,
   "id": "6edd77de-3535-4da1-8472-282c1535eb97",
   "metadata": {},
   "outputs": [
    {
     "name": "stderr",
     "output_type": "stream",
     "text": [
      "/Users/chkapsalis/.pyenv/versions/base/lib/python3.10/site-packages/pyspark/sql/dataframe.py:329: FutureWarning: Deprecated in 2.0, use createOrReplaceTempView instead.\n",
      "  warnings.warn(\"Deprecated in 2.0, use createOrReplaceTempView instead.\", FutureWarning)\n"
     ]
    }
   ],
   "source": [
    "sdf = spark.createDataFrame(df)\n",
    "sdf.registerTempTable('Members')"
   ]
  },
  {
   "cell_type": "code",
   "execution_count": 7,
   "id": "b81b25e5-3f70-49bd-9b10-32c894882fbb",
   "metadata": {},
   "outputs": [
    {
     "name": "stderr",
     "output_type": "stream",
     "text": [
      "                                                                                "
     ]
    },
    {
     "name": "stdout",
     "output_type": "stream",
     "text": [
      "+----+---+\n",
      "|Name|Age|\n",
      "+----+---+\n",
      "|Mary| 30|\n",
      "|John| 31|\n",
      "+----+---+\n",
      "\n"
     ]
    }
   ],
   "source": [
    "r = spark.sql('SELECT * FROM Members WHERE Age > 28')\n",
    "r.show()"
   ]
  },
  {
   "cell_type": "markdown",
   "id": "305d51ed-2dda-4259-aeaa-8d608c4e559a",
   "metadata": {},
   "source": [
    "The recommendation is to work with aggregated data. So we download locally the aggregate result, and convert it to a Pandas DF"
   ]
  },
  {
   "cell_type": "code",
   "execution_count": 8,
   "id": "e7b0236e-bf69-4e63-80a7-000386f147fa",
   "metadata": {},
   "outputs": [],
   "source": [
    "pandas_df = sdf.toPandas()"
   ]
  },
  {
   "cell_type": "code",
   "execution_count": 9,
   "id": "91a5c4dd-b691-4d02-bd8f-a2eff47d8450",
   "metadata": {},
   "outputs": [
    {
     "data": {
      "text/html": [
       "<div>\n",
       "<style scoped>\n",
       "    .dataframe tbody tr th:only-of-type {\n",
       "        vertical-align: middle;\n",
       "    }\n",
       "\n",
       "    .dataframe tbody tr th {\n",
       "        vertical-align: top;\n",
       "    }\n",
       "\n",
       "    .dataframe thead th {\n",
       "        text-align: right;\n",
       "    }\n",
       "</style>\n",
       "<table border=\"1\" class=\"dataframe\">\n",
       "  <thead>\n",
       "    <tr style=\"text-align: right;\">\n",
       "      <th></th>\n",
       "      <th>Name</th>\n",
       "      <th>Age</th>\n",
       "    </tr>\n",
       "  </thead>\n",
       "  <tbody>\n",
       "    <tr>\n",
       "      <th>0</th>\n",
       "      <td>Nick</td>\n",
       "      <td>26</td>\n",
       "    </tr>\n",
       "    <tr>\n",
       "      <th>1</th>\n",
       "      <td>Helen</td>\n",
       "      <td>28</td>\n",
       "    </tr>\n",
       "    <tr>\n",
       "      <th>2</th>\n",
       "      <td>Mary</td>\n",
       "      <td>30</td>\n",
       "    </tr>\n",
       "    <tr>\n",
       "      <th>3</th>\n",
       "      <td>John</td>\n",
       "      <td>31</td>\n",
       "    </tr>\n",
       "  </tbody>\n",
       "</table>\n",
       "</div>"
      ],
      "text/plain": [
       "    Name  Age\n",
       "0   Nick   26\n",
       "1  Helen   28\n",
       "2   Mary   30\n",
       "3   John   31"
      ]
     },
     "execution_count": 9,
     "metadata": {},
     "output_type": "execute_result"
    }
   ],
   "source": [
    "pandas_df.head()"
   ]
  },
  {
   "cell_type": "code",
   "execution_count": null,
   "id": "93c105d1-40e2-4176-8651-318152367ddd",
   "metadata": {},
   "outputs": [],
   "source": []
  }
 ],
 "metadata": {
  "kernelspec": {
   "display_name": "Python (PySpark)",
   "language": "python",
   "name": "pyspark"
  },
  "language_info": {
   "codemirror_mode": {
    "name": "ipython",
    "version": 3
   },
   "file_extension": ".py",
   "mimetype": "text/x-python",
   "name": "python",
   "nbconvert_exporter": "python",
   "pygments_lexer": "ipython3",
   "version": "3.10.15"
  }
 },
 "nbformat": 4,
 "nbformat_minor": 5
}
