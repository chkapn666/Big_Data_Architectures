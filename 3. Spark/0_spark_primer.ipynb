{
 "cells": [
  {
   "cell_type": "markdown",
   "id": "0fd70b92-e6c3-4b2c-a6d9-a6310917178a",
   "metadata": {},
   "source": [
    "SparkContext is our main entry point to Spark functionality \n",
    "\n",
    "```\n",
    "class pyspark.SparkContext(\n",
    "    master=None,  # the URL of the cluster it connects to\n",
    "    appName=None,  # the name of the application to be run\n",
    "    sparkHome=None,  # spark installation directory\n",
    "    pyFiles=None,  # list of .zip or .py files to send to the cluster and add to the PYTHONPATH\n",
    "    environment=None,  # worker nodes environment variables\n",
    "    batchSize=0,\n",
    "    serializer=PickleSerializer(),\n",
    "    conf=None,\n",
    "    gateway=None,\n",
    "    jsc=None,\n",
    "    profiler_cls=<class 'pyspark.profiler.BasicProfiler'>\n",
    "```"
   ]
  },
  {
   "cell_type": "code",
   "execution_count": 1,
   "id": "f8ef0b6c-d573-402e-bcfd-faa0eba649f3",
   "metadata": {},
   "outputs": [
    {
     "name": "stderr",
     "output_type": "stream",
     "text": [
      "25/03/16 12:22:57 WARN Utils: Your hostname, ChristoorossAir resolves to a loopback address: 127.0.0.1; using 192.168.1.18 instead (on interface en0)\n",
      "25/03/16 12:22:57 WARN Utils: Set SPARK_LOCAL_IP if you need to bind to another address\n",
      "Setting default log level to \"WARN\".\n",
      "To adjust logging level use sc.setLogLevel(newLevel). For SparkR, use setLogLevel(newLevel).\n",
      "25/03/16 12:22:58 WARN NativeCodeLoader: Unable to load native-hadoop library for your platform... using builtin-java classes where applicable\n"
     ]
    }
   ],
   "source": [
    "from pyspark import SparkContext\n",
    "sc = SparkContext(\"local\",\"app\")"
   ]
  },
  {
   "cell_type": "code",
   "execution_count": 3,
   "id": "1eb52702-0e76-491e-a639-6e1db16f2496",
   "metadata": {},
   "outputs": [],
   "source": [
    "## Creating RDDs\n",
    "# Case 1 - turn a local collection into an RDD\n",
    "\n",
    "rdd = sc.parallelize([1,2,3,4,5])"
   ]
  },
  {
   "cell_type": "code",
   "execution_count": 4,
   "id": "1bdd61bb-8fd4-4ea3-b18a-c57572f8bc2a",
   "metadata": {},
   "outputs": [],
   "source": [
    "# Case 2 - create an empty RDD with no partitions\n",
    "rdd = sc.emptyRDD"
   ]
  },
  {
   "cell_type": "code",
   "execution_count": 5,
   "id": "67c03c6d-aef0-4c99-82a9-e6c412013867",
   "metadata": {},
   "outputs": [],
   "source": [
    "# Case 3 - Create an empty RDD with 10 partitions\n",
    "rdd = sc.parallelize([], 10)"
   ]
  },
  {
   "cell_type": "code",
   "execution_count": 8,
   "id": "5d695046-8852-4b7c-afa5-bce684fda509",
   "metadata": {},
   "outputs": [],
   "source": [
    "# Case 4 - Load text file from local FS, HDFS, or S3\n",
    "\n",
    "# 4.1 Reading a single file - Each line becomes an RDD element\n",
    "rdd1 = sc.textFile('text01.txt')"
   ]
  },
  {
   "cell_type": "code",
   "execution_count": 9,
   "id": "a7b74273-a588-4a3d-833e-74913f8e6b01",
   "metadata": {},
   "outputs": [],
   "source": [
    "# 4.2 Reading multiple files - each file becomes an rdd element\n",
    "rdd2 = sc.textFile"
   ]
  },
  {
   "cell_type": "code",
   "execution_count": 11,
   "id": "dfcb9314-9857-477f-b907-b58c319fbe6a",
   "metadata": {},
   "outputs": [],
   "source": [
    "# 4.3 Reading a file loaded on an hdfgs namenode\n",
    "# hdfs dfs -put text01.txt /text01.txt\n",
    "rdd3 = sc.textFile('hdfs:///text01.txt')"
   ]
  },
  {
   "cell_type": "code",
   "execution_count": 12,
   "id": "5472be1c-5a90-4474-84e9-48adbb160af9",
   "metadata": {},
   "outputs": [
    {
     "name": "stderr",
     "output_type": "stream",
     "text": [
      "25/03/16 12:36:17 WARN JavaUtils: Attempt to delete using native Unix OS command failed for path = /private/var/folders/fp/b19fbw2j41z9_lyxq1cyd88h0000gn/T/blockmgr-bee07d05-c286-4ce6-88f4-bfd66572bd8a. Falling back to Java IO way\n",
      "java.io.IOException: Failed to delete: /private/var/folders/fp/b19fbw2j41z9_lyxq1cyd88h0000gn/T/blockmgr-bee07d05-c286-4ce6-88f4-bfd66572bd8a\n",
      "\tat org.apache.spark.network.util.JavaUtils.deleteRecursivelyUsingUnixNative(JavaUtils.java:174)\n",
      "\tat org.apache.spark.network.util.JavaUtils.deleteRecursively(JavaUtils.java:109)\n",
      "\tat org.apache.spark.network.util.JavaUtils.deleteRecursively(JavaUtils.java:90)\n",
      "\tat org.apache.spark.util.SparkFileUtils.deleteRecursively(SparkFileUtils.scala:121)\n",
      "\tat org.apache.spark.util.SparkFileUtils.deleteRecursively$(SparkFileUtils.scala:120)\n",
      "\tat org.apache.spark.util.Utils$.deleteRecursively(Utils.scala:1126)\n",
      "\tat org.apache.spark.storage.DiskBlockManager.$anonfun$doStop$1(DiskBlockManager.scala:368)\n",
      "\tat org.apache.spark.storage.DiskBlockManager.$anonfun$doStop$1$adapted(DiskBlockManager.scala:364)\n",
      "\tat scala.collection.IndexedSeqOptimized.foreach(IndexedSeqOptimized.scala:36)\n",
      "\tat scala.collection.IndexedSeqOptimized.foreach$(IndexedSeqOptimized.scala:33)\n",
      "\tat scala.collection.mutable.ArrayOps$ofRef.foreach(ArrayOps.scala:198)\n",
      "\tat org.apache.spark.storage.DiskBlockManager.doStop(DiskBlockManager.scala:364)\n",
      "\tat org.apache.spark.storage.DiskBlockManager.stop(DiskBlockManager.scala:359)\n",
      "\tat org.apache.spark.storage.BlockManager.stop(BlockManager.scala:2122)\n",
      "\tat org.apache.spark.SparkEnv.stop(SparkEnv.scala:95)\n",
      "\tat org.apache.spark.SparkContext.$anonfun$stop$25(SparkContext.scala:2305)\n",
      "\tat org.apache.spark.util.Utils$.tryLogNonFatalError(Utils.scala:1375)\n",
      "\tat org.apache.spark.SparkContext.stop(SparkContext.scala:2305)\n",
      "\tat org.apache.spark.SparkContext.stop(SparkContext.scala:2211)\n",
      "\tat org.apache.spark.SparkContext.$anonfun$new$34(SparkContext.scala:681)\n",
      "\tat org.apache.spark.util.SparkShutdownHook.run(ShutdownHookManager.scala:214)\n",
      "\tat org.apache.spark.util.SparkShutdownHookManager.$anonfun$runAll$2(ShutdownHookManager.scala:188)\n",
      "\tat scala.runtime.java8.JFunction0$mcV$sp.apply(JFunction0$mcV$sp.java:23)\n",
      "\tat org.apache.spark.util.Utils$.logUncaughtExceptions(Utils.scala:1928)\n",
      "\tat org.apache.spark.util.SparkShutdownHookManager.$anonfun$runAll$1(ShutdownHookManager.scala:188)\n",
      "\tat scala.runtime.java8.JFunction0$mcV$sp.apply(JFunction0$mcV$sp.java:23)\n",
      "\tat scala.util.Try$.apply(Try.scala:213)\n",
      "\tat org.apache.spark.util.SparkShutdownHookManager.runAll(ShutdownHookManager.scala:188)\n",
      "\tat org.apache.spark.util.SparkShutdownHookManager$$anon$2.run(ShutdownHookManager.scala:178)\n",
      "\tat java.base/java.util.concurrent.Executors$RunnableAdapter.call(Executors.java:515)\n",
      "\tat java.base/java.util.concurrent.FutureTask.run(FutureTask.java:264)\n",
      "\tat java.base/java.util.concurrent.ThreadPoolExecutor.runWorker(ThreadPoolExecutor.java:1128)\n",
      "\tat java.base/java.util.concurrent.ThreadPoolExecutor$Worker.run(ThreadPoolExecutor.java:628)\n",
      "\tat java.base/java.lang.Thread.run(Thread.java:829)\n"
     ]
    }
   ],
   "source": [
    "# 4.4 Create (file path, file contents) pairs\n",
    "import os\n",
    "rdd4 = sc.wholeTextFiles(os.getcwd())"
   ]
  }
 ],
 "metadata": {
  "kernelspec": {
   "display_name": "Python (PySpark)",
   "language": "python",
   "name": "pyspark"
  },
  "language_info": {
   "codemirror_mode": {
    "name": "ipython",
    "version": 3
   },
   "file_extension": ".py",
   "mimetype": "text/x-python",
   "name": "python",
   "nbconvert_exporter": "python",
   "pygments_lexer": "ipython3",
   "version": "3.10.15"
  }
 },
 "nbformat": 4,
 "nbformat_minor": 5
}
