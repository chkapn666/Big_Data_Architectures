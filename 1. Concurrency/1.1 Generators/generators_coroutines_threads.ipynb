{
 "cells": [
  {
   "cell_type": "code",
   "execution_count": 22,
   "metadata": {},
   "outputs": [],
   "source": [
    "import pandas as pd\n",
    "from pprint import pprint"
   ]
  },
  {
   "cell_type": "markdown",
   "metadata": {},
   "source": [
    "## Generators in Python"
   ]
  },
  {
   "cell_type": "markdown",
   "metadata": {},
   "source": [
    "An iterator is an object that has a state - it knows where it is \n",
    "right now and where it will go on the next iteration.\n",
    "An iterator needs to have the __iter__ and __next__ methods."
   ]
  },
  {
   "cell_type": "code",
   "execution_count": 13,
   "metadata": {},
   "outputs": [
    {
     "name": "stdout",
     "output_type": "stream",
     "text": [
      "'__iter__' in dir(nums): True\n",
      "'__next__' in dir(nums): False\n"
     ]
    }
   ],
   "source": [
    "nums = [1,2,3]\n",
    "print(\"'__iter__' in dir(nums):\", '__iter__' in dir(nums))\n",
    "print(\"'__next__' in dir(nums):\", '__next__' in dir(nums))"
   ]
  },
  {
   "cell_type": "code",
   "execution_count": 19,
   "metadata": {},
   "outputs": [
    {
     "name": "stdout",
     "output_type": "stream",
     "text": [
      "'__iter__' in dir(i_nums): True\n",
      "'__next__' in dir(i_nums): True\n"
     ]
    }
   ],
   "source": [
    "i_nums = iter(nums)\n",
    "print(\"'__iter__' in dir(i_nums):\", '__iter__' in dir(i_nums))\n",
    "print(\"'__next__' in dir(i_nums):\", '__next__' in dir(i_nums))"
   ]
  },
  {
   "cell_type": "code",
   "execution_count": 20,
   "metadata": {},
   "outputs": [
    {
     "name": "stdout",
     "output_type": "stream",
     "text": [
      "1\n"
     ]
    }
   ],
   "source": [
    "print(next(i_nums))"
   ]
  },
  {
   "cell_type": "code",
   "execution_count": 21,
   "metadata": {},
   "outputs": [
    {
     "name": "stdout",
     "output_type": "stream",
     "text": [
      "2\n"
     ]
    }
   ],
   "source": [
    "print(next(i_nums))  # it remembers where it left off, so the 'next' methods prints the next value of the iterator"
   ]
  },
  {
   "cell_type": "markdown",
   "metadata": {},
   "source": [
    "'StopIteration' expression - the iterator has been exhausted and has no more values to print out."
   ]
  },
  {
   "cell_type": "code",
   "execution_count": 23,
   "metadata": {},
   "outputs": [
    {
     "name": "stdout",
     "output_type": "stream",
     "text": [
      "1\n",
      "2\n",
      "3\n",
      "4\n",
      "5\n"
     ]
    }
   ],
   "source": [
    "i_nums = iter([1,2,3,4,5])\n",
    "while True:\n",
    "    try:\n",
    "        item = next(i_nums)\n",
    "        print(item)\n",
    "    except StopIteration: \n",
    "        break"
   ]
  },
  {
   "cell_type": "code",
   "execution_count": null,
   "metadata": {},
   "outputs": [
    {
     "name": "stdout",
     "output_type": "stream",
     "text": [
      "0\n",
      "1\n",
      "2\n",
      "3\n",
      "4\n"
     ]
    }
   ],
   "source": [
    "# Vanilla Python function trying to \n",
    "\n",
    "class MyRange:\n",
    "    def __init__(self, start, end):\n",
    "        self.value = start \n",
    "        self.end = end\n",
    "    \n",
    "    def __iter__(self):\n",
    "        return self  # needs to return an iterator object, BEARING ITS CURRENT STATE!\n",
    "    # This iterator that gets returned from __iter__ allows us to fetch each particular/single value in it. \n",
    "    def __next__(self):\n",
    "        # checking to see if there are any more values - else raise StopIteration\n",
    "        if self.value >= self.end:\n",
    "            raise StopIteration\n",
    "\n",
    "        current = self.value\n",
    "        self.value += 1 \n",
    "        return current\n",
    "        \n",
    "nums = MyRange(0,5)\n",
    "for i in nums:\n",
    "    print(i)"
   ]
  },
  {
   "cell_type": "code",
   "execution_count": 8,
   "metadata": {},
   "outputs": [
    {
     "name": "stdout",
     "output_type": "stream",
     "text": [
      "0\n",
      "1\n",
      "2\n",
      "3\n",
      "4\n"
     ]
    }
   ],
   "source": [
    "nums = MyRange(0,5)\n",
    "while True:\n",
    "    try:\n",
    "        item = next(nums)\n",
    "        print(item)\n",
    "    except StopIteration: \n",
    "        break"
   ]
  },
  {
   "cell_type": "markdown",
   "metadata": {},
   "source": [
    "Generators are iterators. \n",
    "They do not return a result; they yield a value. They keep that state until the generator is run again and they yield the next value.\n",
    "We do not have to create the __iter__ and __next__ methods - they are created automatically. "
   ]
  },
  {
   "cell_type": "code",
   "execution_count": 16,
   "metadata": {},
   "outputs": [
    {
     "name": "stdout",
     "output_type": "stream",
     "text": [
      "Type of test <class 'generator'>\n"
     ]
    }
   ],
   "source": [
    "def my_range(start, end):\n",
    "    current = start \n",
    "    while current < end:\n",
    "        yield current \n",
    "        current += 1\n",
    "\n",
    "test = my_range(0,5)\n",
    "print(\"Type of test\", type(test))"
   ]
  },
  {
   "cell_type": "code",
   "execution_count": 17,
   "metadata": {},
   "outputs": [
    {
     "name": "stdout",
     "output_type": "stream",
     "text": [
      "0\n",
      "1\n",
      "2\n",
      "3\n",
      "4\n"
     ]
    }
   ],
   "source": [
    "for num in test:\n",
    "    print(num)"
   ]
  },
  {
   "cell_type": "markdown",
   "metadata": {},
   "source": [
    "Iterators do not actually need to end - as long as there exist a 'next' value, they can run indefinitely. \n",
    "Potential use of this: password cracker or any other program trying to brute force its way into something that has\n",
    "so many potential values that cannot be saved somewhere."
   ]
  },
  {
   "cell_type": "code",
   "execution_count": 19,
   "metadata": {},
   "outputs": [
    {
     "name": "stdout",
     "output_type": "stream",
     "text": [
      "Type of test <class 'generator'>\n"
     ]
    }
   ],
   "source": [
    "def my_range2(start):\n",
    "    current = start \n",
    "    while True:\n",
    "        yield current \n",
    "        current += 1\n",
    "\n",
    "test = my_range2(0)\n",
    "print(\"Type of test\", type(test))"
   ]
  },
  {
   "cell_type": "code",
   "execution_count": 20,
   "metadata": {},
   "outputs": [
    {
     "name": "stdout",
     "output_type": "stream",
     "text": [
      "0\n",
      "1\n",
      "2\n",
      "3\n",
      "4\n",
      "5\n",
      "6\n",
      "7\n",
      "8\n"
     ]
    }
   ],
   "source": [
    "print(next(test))\n",
    "print(next(test))\n",
    "print(next(test))\n",
    "print(next(test))\n",
    "print(next(test))\n",
    "print(next(test))\n",
    "print(next(test))\n",
    "print(next(test))\n",
    "print(next(test))"
   ]
  },
  {
   "cell_type": "markdown",
   "metadata": {},
   "source": [
    "## Co-Routines in Python"
   ]
  },
  {
   "cell_type": "markdown",
   "metadata": {},
   "source": [
    "- Co-routines are a special type of Python function used for co-operative multi-tasking where a process voluntarily yield (give away)\n",
    "control periodically or while idle in order to enable multiple applications to be run simultaneously. \n",
    "- Co-routines can have several entry points for suspending and resuming execution. \n",
    "- There is no main function to call co-routines in a particular order and co-ordinate the results. Co-routines are co-operative that means they link together to form a pipeline. \n",
    "- Co-routines differ from threads. When it comes to threads, it is an operating system that decides to switch between threads according to the scheduler. In co-routines, the programmer or the programming language decides when to switch co-routines. \n",
    "- They are like an expansion of generator functions; generators can only produce data for iteration, while co-routines can also consume data."
   ]
  },
  {
   "cell_type": "code",
   "execution_count": 31,
   "metadata": {},
   "outputs": [],
   "source": [
    "# Co-routine definition\n",
    "\n",
    "def print_name(prefix):\n",
    "    print(f\"Searching prefix: {prefix}\")\n",
    "    while True:\n",
    "        try:\n",
    "            name = (yield)\n",
    "            if prefix in name:\n",
    "                print(name)\n",
    "        except GeneratorExit:\n",
    "            print('Done with printing names!')\n",
    "            break"
   ]
  },
  {
   "cell_type": "code",
   "execution_count": 32,
   "metadata": {},
   "outputs": [
    {
     "name": "stderr",
     "output_type": "stream",
     "text": [
      "Exception ignored in: <generator object print_name at 0x10bbf1230>\n",
      "Traceback (most recent call last):\n",
      "  File \"/var/folders/fp/b19fbw2j41z9_lyxq1cyd88h0000gn/T/ipykernel_75563/2765938762.py\", line 3, in <module>\n",
      "RuntimeError: generator ignored GeneratorExit\n"
     ]
    },
    {
     "name": "stdout",
     "output_type": "stream",
     "text": [
      "Done with printing names!\n",
      "Searching prefix: Dear\n"
     ]
    }
   ],
   "source": [
    "# Instantiation - comes in two steps\n",
    "# 1. Calling the co-routine ~ nothing happens\n",
    "corou = print_name(\"Dear\")\n",
    "\n",
    "# 2. Starting the execution of the co-routine; advancing execution to the first 'yield' expression.\n",
    "next(corou)"
   ]
  },
  {
   "cell_type": "code",
   "execution_count": 33,
   "metadata": {},
   "outputs": [
    {
     "name": "stdout",
     "output_type": "stream",
     "text": [
      "Dear Satan\n"
     ]
    }
   ],
   "source": [
    "# Now we can start sending inputs for the co-routine to consume\n",
    "corou.send(\"Dear Satan\")\n",
    "corou.send(\"Mitsotakis\")"
   ]
  },
  {
   "cell_type": "code",
   "execution_count": 34,
   "metadata": {},
   "outputs": [
    {
     "name": "stdout",
     "output_type": "stream",
     "text": [
      "Done with printing names!\n"
     ]
    }
   ],
   "source": [
    "# Closing a co-routine to prevent it from running indefinitely\n",
    "corou.close()\n",
    "\n",
    "# When it is closed, it will produce a 'GeneratorExit' exception. \n",
    "# If we try to send it any more values after its closed, it will raise a 'StopIteration' exception."
   ]
  },
  {
   "cell_type": "markdown",
   "metadata": {},
   "source": [
    "## Threads in Python - 'threading' module"
   ]
  },
  {
   "cell_type": "markdown",
   "metadata": {},
   "source": []
  },
  {
   "cell_type": "code",
   "execution_count": null,
   "metadata": {},
   "outputs": [],
   "source": []
  },
  {
   "cell_type": "code",
   "execution_count": null,
   "metadata": {},
   "outputs": [],
   "source": []
  },
  {
   "cell_type": "code",
   "execution_count": null,
   "metadata": {},
   "outputs": [],
   "source": []
  },
  {
   "cell_type": "code",
   "execution_count": null,
   "metadata": {},
   "outputs": [],
   "source": []
  },
  {
   "cell_type": "code",
   "execution_count": null,
   "metadata": {},
   "outputs": [],
   "source": []
  },
  {
   "cell_type": "code",
   "execution_count": null,
   "metadata": {},
   "outputs": [],
   "source": []
  },
  {
   "cell_type": "markdown",
   "metadata": {},
   "source": [
    "## 'multiprocessing' module"
   ]
  },
  {
   "cell_type": "markdown",
   "metadata": {},
   "source": []
  },
  {
   "cell_type": "markdown",
   "metadata": {},
   "source": []
  },
  {
   "cell_type": "markdown",
   "metadata": {},
   "source": []
  },
  {
   "cell_type": "markdown",
   "metadata": {},
   "source": []
  },
  {
   "cell_type": "markdown",
   "metadata": {},
   "source": []
  },
  {
   "cell_type": "markdown",
   "metadata": {},
   "source": []
  }
 ],
 "metadata": {
  "kernelspec": {
   "display_name": "base",
   "language": "python",
   "name": "python3"
  },
  "language_info": {
   "codemirror_mode": {
    "name": "ipython",
    "version": 3
   },
   "file_extension": ".py",
   "mimetype": "text/x-python",
   "name": "python",
   "nbconvert_exporter": "python",
   "pygments_lexer": "ipython3",
   "version": "3.10.15"
  }
 },
 "nbformat": 4,
 "nbformat_minor": 2
}
