{
 "cells": [
  {
   "cell_type": "code",
   "execution_count": 1,
   "metadata": {},
   "outputs": [
    {
     "name": "stderr",
     "output_type": "stream",
     "text": [
      "25/03/28 17:08:34 WARN Utils: Your hostname, ChristoorossAir resolves to a loopback address: 127.0.0.1; using 192.168.1.18 instead (on interface en0)\n",
      "25/03/28 17:08:34 WARN Utils: Set SPARK_LOCAL_IP if you need to bind to another address\n",
      "Setting default log level to \"WARN\".\n",
      "To adjust logging level use sc.setLogLevel(newLevel). For SparkR, use setLogLevel(newLevel).\n",
      "25/03/28 17:08:34 WARN NativeCodeLoader: Unable to load native-hadoop library for your platform... using builtin-java classes where applicable\n"
     ]
    }
   ],
   "source": [
    "from pyspark import SparkContext\n",
    "import os\n",
    "os.chdir('/Users/chkapsalis/Documents/GitHub/Big_Data_Architectures/Assignments/my_assignment_3')\n",
    "\n",
    "# For some reason i need to run this every time in order to get it work\n",
    "import os\n",
    "os.environ[\"JAVA_HOME\"] = \"/opt/homebrew/opt/openjdk@11/libexec/openjdk.jdk/Contents/Home\" \n",
    "\n",
    "spark = SparkContext(\"local[1]\", \"app\")\n"
   ]
  },
  {
   "cell_type": "code",
   "execution_count": 2,
   "metadata": {},
   "outputs": [],
   "source": [
    "cols='Date,AirlineCode,Airline,ORG,DST,DeptTime,DeptDelta,DeptDelay,ArrTime,ArrDelta,ArrDelay,Cancelled,Distance,CarDelay,WeaDelay,NASDelay,SecDelay,LaADelay'.split(',')\n",
    "\n",
    "# We are not using spark dataframes, so ingesting a csv involved manually removing the file's header line."
   ]
  },
  {
   "cell_type": "code",
   "execution_count": 3,
   "metadata": {},
   "outputs": [
    {
     "name": "stderr",
     "output_type": "stream",
     "text": [
      "[Stage 0:>                                                          (0 + 1) / 1]\r"
     ]
    },
    {
     "name": "stdout",
     "output_type": "stream",
     "text": [
      "[('19805', 'AA'), ('19930', 'AS'), ('20409', 'B6'), ('19790', 'DL'), ('20366', 'EV'), ('20436', 'F9'), ('20437', 'FL'), ('19690', 'HA'), ('20398', 'MQ'), ('20304', 'OO'), ('19977', 'UA'), ('20355', 'US'), ('21171', 'VX'), ('19393', 'WN')]\n"
     ]
    },
    {
     "name": "stderr",
     "output_type": "stream",
     "text": [
      "                                                                                \r"
     ]
    }
   ],
   "source": [
    "# I will first ingest the file once to create an airline_id -> airline symbol mapper\n",
    "datafile= spark.textFile('file:///' + os.getcwd() + '/ontime_flights.csv')\n",
    "\n",
    "# The first map => creating sub-rdds like ('airline_id', 'airline_symbol') - these might be duplicate; we need 'distinct()' before collect \n",
    "# to only retrieve he unique key-value pairs!\n",
    "airlines = datafile.map(lambda full_line: full_line.split(',')) \\\n",
    "    .map(lambda x: (x[1], x[2])) \\\n",
    "    .distinct() \\\n",
    "         .collect()\n",
    "\n",
    "print(airlines)"
   ]
  },
  {
   "cell_type": "code",
   "execution_count": 12,
   "metadata": {},
   "outputs": [],
   "source": [
    "import datetime \n",
    "\n",
    "def parse(row):\n",
    "    \"\"\" This function allows for the more straightforward ingestion of the file's contents per line. \n",
    "    It also facilitates making sure we ignore any invalid lines\"\"\"\n",
    "    \n",
    "    try:\n",
    "        date = datetime.datetime.strptime(row[0], \"%Y-%m-%d\")\n",
    "        airline_code = int(row[1])\n",
    "        airline_symbol = row[2]\n",
    "        arr_delay = int(row[6])\n",
    "        dest_delay = int(row[9])\n",
    "        origin = row[3]\n",
    "        dest = row[4]\n",
    "        return (date, airline_code, airline_symbol, arr_delay, dest_delay, origin, dest)\n",
    "    except:\n",
    "        return \n"
   ]
  },
  {
   "cell_type": "code",
   "execution_count": 13,
   "metadata": {},
   "outputs": [
    {
     "name": "stdout",
     "output_type": "stream",
     "text": [
      "(datetime.datetime(2014, 4, 1, 0, 0), 19805, 'AA', -6, 2, 'JFK', 'LAX')\n",
      "(datetime.datetime(2014, 4, 1, 0, 0), 19805, 'AA', 14, -29, 'LAX', 'JFK')\n",
      "(datetime.datetime(2014, 4, 1, 0, 0), 19805, 'AA', -6, 39, 'JFK', 'LAX')\n",
      "(datetime.datetime(2014, 4, 1, 0, 0), 19805, 'AA', 25, -27, 'LAX', 'JFK')\n",
      "(datetime.datetime(2014, 4, 1, 0, 0), 19805, 'AA', -5, 15, 'DFW', 'HNL')\n"
     ]
    }
   ],
   "source": [
    "# Now we will ingest all data of interest pertaining to flights; date,airline code,arr_delay,dept_delay\n",
    "flights = datafile.map(lambda full_line: full_line.split(',')) \\\n",
    "                .map(parse) \\\n",
    "                .filter(lambda x: x is not None)\n",
    "                \n",
    "# Peaking into the resulting rdd\n",
    "for el in flights.take(5):\n",
    "    print(el)"
   ]
  },
  {
   "cell_type": "code",
   "execution_count": 14,
   "metadata": {},
   "outputs": [
    {
     "name": "stderr",
     "output_type": "stream",
     "text": [
      "[Stage 13:>                                                         (0 + 1) / 1]\r"
     ]
    },
    {
     "name": "stdout",
     "output_type": "stream",
     "text": [
      "[('AA', 3489)]\n"
     ]
    },
    {
     "name": "stderr",
     "output_type": "stream",
     "text": [
      "                                                                                \r"
     ]
    }
   ],
   "source": [
    "# Question 1\n",
    "\n",
    "# I will only keep each line's data about the name of the airline and the total delay on the relevant line (aka particular flight)\n",
    "# I now have key-value pairs -> i will find the max value per key (aka the max delay per airline)\n",
    "# sort in descending order\n",
    "# keep only the first rdd - that pertaining to the max overall delay that has ever been observed, linked to the relevant airline!\n",
    "\n",
    "max_total_delay = flights \\\n",
    "        .map(lambda x: (x[2], x[3]+x[4])) \\\n",
    "        .reduceByKey(lambda x, y: max(x, y)) \\\n",
    "        .sortBy(lambda kv: kv[1], ascending=False) \\\n",
    "        .take(1)  #returns a list object\n",
    "        \n",
    "\n",
    "print(max_total_delay)"
   ]
  },
  {
   "cell_type": "code",
   "execution_count": 15,
   "metadata": {},
   "outputs": [
    {
     "name": "stderr",
     "output_type": "stream",
     "text": [
      "[Stage 15:>                                                         (0 + 1) / 1]\r"
     ]
    },
    {
     "name": "stdout",
     "output_type": "stream",
     "text": [
      "Avg dept delay out of JFK airport: 8.313877046894083\n"
     ]
    },
    {
     "name": "stderr",
     "output_type": "stream",
     "text": [
      "                                                                                \r"
     ]
    }
   ],
   "source": [
    "# Question 2\n",
    "# From each line, I will only the departure delay of the flight described\n",
    "# I will then compute the overall mean\n",
    "avg_overall_delay = flights \\\n",
    "    .map(lambda x: x[3]) \\\n",
    "    .mean()\n",
    "\n",
    "print('Avg dept delay out of JFK airport:', avg_overall_delay)"
   ]
  },
  {
   "cell_type": "code",
   "execution_count": 16,
   "metadata": {},
   "outputs": [
    {
     "name": "stderr",
     "output_type": "stream",
     "text": [
      "[Stage 16:>                                                         (0 + 1) / 1]\r"
     ]
    },
    {
     "name": "stdout",
     "output_type": "stream",
     "text": [
      "[(datetime.datetime(2014, 4, 1, 0, 0), 8.307189948998632), (datetime.datetime(2014, 4, 2, 0, 0), 5.3777832150721805), (datetime.datetime(2014, 4, 3, 0, 0), 31.550911300121506), (datetime.datetime(2014, 4, 4, 0, 0), 24.078086549426803), (datetime.datetime(2014, 4, 5, 0, 0), 3.408638838475499)]\n"
     ]
    },
    {
     "name": "stderr",
     "output_type": "stream",
     "text": [
      "                                                                                \r"
     ]
    }
   ],
   "source": [
    "# Question 3\n",
    "daily_avg_delays = flights \\\n",
    "    .map(lambda x: (x[0], (x[3]+x[4], 1))) \\\n",
    "    .reduceByKey(lambda x, y: (x[0]+y[0], x[1]+y[1])) \\\n",
    "    .mapValues(lambda x: x[0] / x[1])\n",
    "\n",
    "print(daily_avg_delays.take(5))"
   ]
  },
  {
   "cell_type": "code",
   "execution_count": 17,
   "metadata": {},
   "outputs": [
    {
     "name": "stderr",
     "output_type": "stream",
     "text": [
      "[Stage 18:>                                                         (0 + 1) / 1]\r"
     ]
    },
    {
     "name": "stdout",
     "output_type": "stream",
     "text": [
      "Avg total delays for AA per flight: 9.981389864989794\n"
     ]
    },
    {
     "name": "stderr",
     "output_type": "stream",
     "text": [
      "                                                                                \r"
     ]
    }
   ],
   "source": [
    "# Question 4\n",
    "avg_total_for_aa = flights \\\n",
    "    .filter(lambda x: x[2] == \"AA\") \\\n",
    "    .map(lambda x: x[3]+x[4]) \\\n",
    "    .mean()\n",
    "\n",
    "print('Avg total delays for AA per flight:', avg_total_for_aa)"
   ]
  },
  {
   "cell_type": "code",
   "execution_count": 21,
   "metadata": {},
   "outputs": [
    {
     "name": "stderr",
     "output_type": "stream",
     "text": [
      "[Stage 24:>                                                         (0 + 1) / 1]\r"
     ]
    },
    {
     "name": "stdout",
     "output_type": "stream",
     "text": [
      "[(datetime.datetime(2014, 4, 1, 0, 0), 35), (datetime.datetime(2014, 4, 2, 0, 0), 34), (datetime.datetime(2014, 4, 3, 0, 0), 33), (datetime.datetime(2014, 4, 4, 0, 0), 34), (datetime.datetime(2014, 4, 5, 0, 0), 26)]\n"
     ]
    },
    {
     "name": "stderr",
     "output_type": "stream",
     "text": [
      "                                                                                \r"
     ]
    }
   ],
   "source": [
    "# Question 5\n",
    "from_jfk_to_lax_daily = flights \\\n",
    "    .filter(lambda x: x[5] == \"JFK\" and x[6] == \"LAX\") \\\n",
    "    .map(lambda x: (x[0],1)) \\\n",
    "    .reduceByKey(lambda x, y: x + y) \\\n",
    "    .sortByKey(ascending=True)\n",
    "\n",
    "print(from_jfk_to_lax_daily.take(5))"
   ]
  }
 ],
 "metadata": {
  "kernelspec": {
   "display_name": "base",
   "language": "python",
   "name": "python3"
  },
  "language_info": {
   "codemirror_mode": {
    "name": "ipython",
    "version": 3
   },
   "file_extension": ".py",
   "mimetype": "text/x-python",
   "name": "python",
   "nbconvert_exporter": "python",
   "pygments_lexer": "ipython3",
   "version": "3.10.15"
  }
 },
 "nbformat": 4,
 "nbformat_minor": 2
}
