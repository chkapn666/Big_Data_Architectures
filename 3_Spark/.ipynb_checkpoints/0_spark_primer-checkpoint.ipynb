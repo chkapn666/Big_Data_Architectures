{
 "cells": [
  {
   "cell_type": "markdown",
   "id": "0fd70b92-e6c3-4b2c-a6d9-a6310917178a",
   "metadata": {},
   "source": [
    "SparkContext is our main entry point to Spark functionality \n",
    "\n",
    "```\n",
    "class pyspark.SparkContext(\n",
    "    master=None,  # the URL of the cluster it connects to\n",
    "    appName=None,  # the name of the application to be run\n",
    "    sparkHome=None,  # spark installation directory\n",
    "    pyFiles=None,  # list of .zip or .py files to send to the cluster and add to the PYTHONPATH\n",
    "    environment=None,  # worker nodes environment variables\n",
    "    batchSize=0,\n",
    "    serializer=PickleSerializer(),\n",
    "    conf=None,\n",
    "    gateway=None,\n",
    "    jsc=None,\n",
    "    profiler_cls=<class 'pyspark.profiler.BasicProfiler'>\n",
    "```"
   ]
  },
  {
   "cell_type": "code",
   "execution_count": 1,
   "id": "f8ef0b6c-d573-402e-bcfd-faa0eba649f3",
   "metadata": {},
   "outputs": [
    {
     "name": "stderr",
     "output_type": "stream",
     "text": [
      "25/03/16 12:22:57 WARN Utils: Your hostname, ChristoorossAir resolves to a loopback address: 127.0.0.1; using 192.168.1.18 instead (on interface en0)\n",
      "25/03/16 12:22:57 WARN Utils: Set SPARK_LOCAL_IP if you need to bind to another address\n",
      "Setting default log level to \"WARN\".\n",
      "To adjust logging level use sc.setLogLevel(newLevel). For SparkR, use setLogLevel(newLevel).\n",
      "25/03/16 12:22:58 WARN NativeCodeLoader: Unable to load native-hadoop library for your platform... using builtin-java classes where applicable\n"
     ]
    }
   ],
   "source": [
    "from pyspark import SparkContext\n",
    "sc = SparkContext(\"local\",\"app\")"
   ]
  },
  {
   "cell_type": "code",
   "execution_count": 3,
   "id": "1eb52702-0e76-491e-a639-6e1db16f2496",
   "metadata": {},
   "outputs": [],
   "source": [
    "## Creating RDDs\n",
    "# Case 1 - turn a local collection into an RDD\n",
    "\n",
    "rdd = sc.parallelize([1,2,3,4,5])"
   ]
  },
  {
   "cell_type": "code",
   "execution_count": 4,
   "id": "1bdd61bb-8fd4-4ea3-b18a-c57572f8bc2a",
   "metadata": {},
   "outputs": [],
   "source": [
    "# Case 2 - create an empty RDD with no partitions\n",
    "rdd = sc.emptyRDD"
   ]
  },
  {
   "cell_type": "code",
   "execution_count": 5,
   "id": "67c03c6d-aef0-4c99-82a9-e6c412013867",
   "metadata": {},
   "outputs": [],
   "source": [
    "# Case 3 - Create an empty RDD with 10 partitions\n",
    "rdd = sc.parallelize([], 10)"
   ]
  },
  {
   "cell_type": "code",
   "execution_count": 8,
   "id": "5d695046-8852-4b7c-afa5-bce684fda509",
   "metadata": {},
   "outputs": [],
   "source": [
    "# Case 4 - Load text file from local FS, HDFS, or S3\n",
    "\n",
    "# 4.1 Reading a single file - Each line becomes an RDD element\n",
    "rdd1 = sc.textFile('text01.txt')"
   ]
  },
  {
   "cell_type": "code",
   "execution_count": 9,
   "id": "a7b74273-a588-4a3d-833e-74913f8e6b01",
   "metadata": {},
   "outputs": [],
   "source": [
    "# 4.2 Reading multiple files - each file becomes an rdd element\n",
    "rdd2 = sc.textFile"
   ]
  },
  {
   "cell_type": "code",
   "execution_count": 11,
   "id": "dfcb9314-9857-477f-b907-b58c319fbe6a",
   "metadata": {},
   "outputs": [],
   "source": [
    "# 4.3 Reading a file loaded on an hdfgs namenode\n",
    "# hdfs dfs -put text01.txt /text01.txt\n",
    "rdd3 = sc.textFile('hdfs:///text01.txt')"
   ]
  },
  {
   "cell_type": "code",
   "execution_count": 12,
   "id": "5472be1c-5a90-4474-84e9-48adbb160af9",
   "metadata": {},
   "outputs": [],
   "source": [
    "# 4.4 Create (file path, file contents) pairs\n",
    "import os\n",
    "rdd4 = sc.wholeTextFiles(os.getcwd())"
   ]
  }
 ],
 "metadata": {
  "kernelspec": {
   "display_name": "Python (PySpark)",
   "language": "python",
   "name": "pyspark"
  },
  "language_info": {
   "codemirror_mode": {
    "name": "ipython",
    "version": 3
   },
   "file_extension": ".py",
   "mimetype": "text/x-python",
   "name": "python",
   "nbconvert_exporter": "python",
   "pygments_lexer": "ipython3",
   "version": "3.10.15"
  }
 },
 "nbformat": 4,
 "nbformat_minor": 5
}
